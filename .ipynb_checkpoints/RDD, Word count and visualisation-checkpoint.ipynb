{
 "cells": [
  {
   "cell_type": "code",
   "execution_count": 15,
   "metadata": {
    "collapsed": true
   },
   "outputs": [],
   "source": [
    "\n",
    "import ibmos2spark\n",
    "\n",
    "# @hidden_cell\n",
    "credentials = {\n",
    "    'auth_url': 'https://identity.open.softlayer.com',\n",
    "    'project_id': '022c5f90e37f4b4c982c3cbb2eaf3d60',\n",
    "    'region': 'dallas',\n",
    "    'user_id': '852437530a3e495c96187983347bb2ae',\n",
    "    'username': 'member_bf697a552dcdd31540caf20ff1f4c61d351aed06',\n",
    "    'password': 'Ar}1Dz0-~0Wr._C]'\n",
    "}\n",
    "\n",
    "configuration_name = 'os_e18a2af98559496097c78f5fa379bbcb_configs'\n",
    "bmos = ibmos2spark.bluemix(sc, credentials, configuration_name)\n",
    "\n",
    "from pyspark.sql import SparkSession\n",
    "spark = SparkSession.builder.getOrCreate()\n",
    "# Please read the documentation of PySpark to learn more about the possibilities to load data files.\n",
    "# PySpark documentation: https://spark.apache.org/docs/2.0.1/api/python/pyspark.sql.html#pyspark.sql.SparkSession\n",
    "# The SparkSession object is already initalized for you.\n",
    "# The following variable contains the path to your file on your Object Storage.\n",
    "path_2 = bmos.url('BigData', 'hamlet.txt')\n",
    "## Part 1 - Demo: Apapche Spark API with PySpark"
   ]
  },
  {
   "cell_type": "code",
   "execution_count": 16,
   "metadata": {
    "collapsed": true
   },
   "outputs": [],
   "source": [
    "lines = sc.textFile(path_2)"
   ]
  },
  {
   "cell_type": "markdown",
   "metadata": {},
   "source": [
    "### 1) Access to Spark\n",
    "\n",
    "The PySpark notebook environment provides SparkSession object called `spark`. From there we can get the SparkContext, normally called `sc`, which we use to create RDDs."
   ]
  },
  {
   "cell_type": "code",
   "execution_count": 18,
   "metadata": {},
   "outputs": [
    {
     "name": "stdout",
     "output_type": "stream",
     "text": [
      "<pyspark.sql.session.SparkSession object at 0x7f8ecc168d68>\n",
      "<pyspark.context.SparkContext object at 0x7f8eea33e400>\n"
     ]
    }
   ],
   "source": [
    "# predifined spark session\n",
    "print(spark) \n",
    "# get the context\n",
    "sc = spark.sparkContext\n",
    "print(sc)"
   ]
  },
  {
   "cell_type": "markdown",
   "metadata": {},
   "source": [
    "### 2) RDD Creation\n",
    "\n",
    "There are two ways to create RDDs. The first is to parallelise a Python object that exists in your driver process (i.e. this one). "
   ]
  },
  {
   "cell_type": "markdown",
   "metadata": {},
   "source": [
    "The second way to create an RDD is by referencing an external dataset such as a shared filesystem, HDFS, HBase, or any data source offering a Hadoop InputFormat. This is what we will be using in this lab (further down)."
   ]
  },
  {
   "cell_type": "code",
   "execution_count": 19,
   "metadata": {},
   "outputs": [
    {
     "name": "stdout",
     "output_type": "stream",
     "text": [
      "ParallelCollectionRDD[28] at parallelize at PythonRDD.scala:475\n"
     ]
    }
   ],
   "source": [
    "# Creat an RDD from a Python object in this process (the \"driver\").\n",
    "# The parallelize function  creating the \"numbers\" RDD\n",
    "data = [1,2,3,4,5]\n",
    "firstRDD = sc.parallelize(data)\n",
    "print(firstRDD)"
   ]
  },
  {
   "cell_type": "markdown",
   "metadata": {},
   "source": [
    "This RDD lives now on as many worker machines as are available and as are deemed useful by Spark."
   ]
  },
  {
   "cell_type": "markdown",
   "metadata": {},
   "source": [
    "### 3) RDD operations\n",
    "RDDs have two kinds of operations: *Transformations* and *Actions*.\n",
    "\n",
    "*Transformations* create a new RDD by applying a function to the items in the RDD. The function will only be applied when needed (\"*lazy* evaluation\").\n",
    "\n",
    "*Actions* produce some output from the data. An *Action* will trigger the execution of all *Transformations*.\n",
    "\n",
    "Here are some examples:"
   ]
  },
  {
   "cell_type": "code",
   "execution_count": 20,
   "metadata": {},
   "outputs": [
    {
     "name": "stdout",
     "output_type": "stream",
     "text": [
      "PythonRDD[29] at RDD at PythonRDD.scala:48\n"
     ]
    }
   ],
   "source": [
    "# lambda function: x -> x+3\n",
    "RDD2 = firstRDD.map(lambda x:x+3)  \n",
    "print(RDD2)\n",
    "# nothing happened to far, as there is no action"
   ]
  },
  {
   "cell_type": "code",
   "execution_count": 21,
   "metadata": {},
   "outputs": [
    {
     "name": "stdout",
     "output_type": "stream",
     "text": [
      "5\n"
     ]
    }
   ],
   "source": [
    "# \"count\" is an action and triggers the transformation   \n",
    "a = RDD2.count() \n",
    "print(a)"
   ]
  },
  {
   "cell_type": "markdown",
   "metadata": {},
   "source": [
    "`collect` is an action that returns the values of the RDD in an Python array, back into this local driver process."
   ]
  },
  {
   "cell_type": "code",
   "execution_count": 22,
   "metadata": {},
   "outputs": [
    {
     "name": "stdout",
     "output_type": "stream",
     "text": [
      "[4, 5, 6, 7, 8]\n"
     ]
    }
   ],
   "source": [
    "a = RDD2.collect() \n",
    "print(a)"
   ]
  },
  {
   "cell_type": "markdown",
   "metadata": {},
   "source": [
    "Look here for more information about the functions provided by RDD: (https://spark.apache.org/docs/2.1.0/api/python/pyspark.html#pyspark.RDD). "
   ]
  },
  {
   "cell_type": "markdown",
   "metadata": {},
   "source": [
    "### 4) Dataframes \n",
    "\n",
    "Dataframes are a more structured form of data storage than RDDs, similar to Pandas dataframes.  \n",
    "\n",
    "Let us see how to create and use dataframes. There are three ways of creating a dataframe\n",
    "    a) Loading data from an existing RDD.\n",
    "    b) It can be created form and external data source. For example, loading the data from JSON or CSV files.\n",
    "    c) Programmatically specifying schema.\n",
    "    \n",
    "Here is an example for option a."
   ]
  },
  {
   "cell_type": "code",
   "execution_count": 12,
   "metadata": {},
   "outputs": [
    {
     "name": "stdout",
     "output_type": "stream",
     "text": [
      "DataFrame[age: bigint, name: string]\n"
     ]
    }
   ],
   "source": [
    "from pyspark.sql import Row\n",
    "\n",
    "list = [('Anne',21),('Bob',22),('Carl',29),('Daisy',36)]\n",
    "rdd = sc.parallelize(list)\n",
    "peopleRDD = rdd.map(lambda x: Row(name=x[0], age=int(x[1])))\n",
    "peopleDF = sqlContext.createDataFrame(peopleRDD) \n",
    "print(peopleDF)"
   ]
  },
  {
   "cell_type": "markdown",
   "metadata": {},
   "source": [
    "### 5) Visualisation with Pixiedust\n",
    "\n",
    "The pixiedust library provides a visual display of DataFrames, so we can use it to view the data."
   ]
  },
  {
   "cell_type": "code",
   "execution_count": 13,
   "metadata": {
    "pixiedust": {
     "displayParams": {
      "aggregation": "SUM",
      "chartsize": "57",
      "handlerId": "barChart",
      "keyFields": "name",
      "rowCount": "500",
      "valueFields": "age"
     }
    }
   },
   "outputs": [
    {
     "data": {
      "text/html": [
       "<style type=\"text/css\">.pd_warning{display:none;}</style><div class=\"pd_warning\"><em>Hey, there's something awesome here! To see it, open this notebook outside GitHub, in a viewer like Jupyter</em></div><img style=\"max-width:initial !important\" src=\"data:image/png;base64,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\" class=\"pd_save is-viewer-good\">"
      ],
      "text/plain": [
       "<IPython.core.display.HTML object>"
      ]
     },
     "metadata": {},
     "output_type": "display_data"
    }
   ],
   "source": [
    "import pixiedust\n",
    "display(peopleDF)"
   ]
  },
  {
   "cell_type": "markdown",
   "metadata": {},
   "source": [
    "## Part 2: Classic Word Count\n",
    "\n",
    "We will now do the classic word count example for the MapReduce pattern.\n",
    "\n",
    "We will apply it to the text of Sheakespeare's play *Hamlet*. For that you should have uploaded the file \"hamlet.txt\" into the data assets. If you don't have it, please follow the instructions in the *IBM project setup guide* on Moodle."
   ]
  },
  {
   "cell_type": "markdown",
   "metadata": {},
   "source": [
    "### 6) Load the data\n",
    "First we need to load the text into an RDD (the second method of creating an RDD as mentioned above). \n",
    "\n",
    "For this, go to the *Data* sidebar and select from *Insert to code* the option *Insert SparkSession Setup* below.  "
   ]
  },
  {
   "cell_type": "code",
   "execution_count": 23,
   "metadata": {
    "collapsed": true
   },
   "outputs": [],
   "source": [
    "# insert file access code here \n",
    "# Please read the documentation of PySpark to learn more about the possibilities to load data files.\n",
    "# PySpark documentation: https://spark.apache.org/docs/2.0.1/api/python/pyspark.sql.html#pyspark.sql.SparkSession\n",
    "# The SparkSession object is already initalized for you.\n",
    "# The following variable contains the path to your file on your Object Storage.\n",
    "path_1 = bmos.url('BigData', 'hamlet.txt')\n"
   ]
  },
  {
   "cell_type": "markdown",
   "metadata": {},
   "source": [
    "You should have a variable `path_1` or similar, from which you can read the file into an RDD with `textFile`. The RDD then contains as items the lines of the text. `take(3)` then gives us the first 3 lines.  "
   ]
  },
  {
   "cell_type": "code",
   "execution_count": 24,
   "metadata": {},
   "outputs": [
    {
     "data": {
      "text/plain": [
       "['Project Gutenberg Etext of Hamlet by Shakespeare',\n",
       " \"PG has multiple editions of William Shakespeare's Complete Works\",\n",
       " '']"
      ]
     },
     "execution_count": 24,
     "metadata": {},
     "output_type": "execute_result"
    }
   ],
   "source": [
    "lineRDD = sc.textFile(path_1)\n",
    "lineRDD.take(3)"
   ]
  },
  {
   "cell_type": "markdown",
   "metadata": {},
   "source": [
    "### 7) Split lines into words\n",
    "\n",
    "In order to count the words, we need to split the lines into words. We can do that using the `split` function of the Python String class to separate at each space. \n",
    "\n",
    "The map function replaces each item with a new one, in this case our `lambda` returns an array of words (provided by `split(' ')`). However, we want to create one item per word, therefore we need to use a function called `flatMap` that creates a new RDD item for every item in the array returned by the lambda.  "
   ]
  },
  {
   "cell_type": "code",
   "execution_count": 25,
   "metadata": {},
   "outputs": [
    {
     "data": {
      "text/plain": [
       "['Project', 'Gutenberg', 'Etext']"
      ]
     },
     "execution_count": 25,
     "metadata": {},
     "output_type": "execute_result"
    }
   ],
   "source": [
    "wordRDD = lineRDD.flatMap(lambda x: x.split(' '))\n",
    "wordRDD.take(3)"
   ]
  },
  {
   "cell_type": "markdown",
   "metadata": {},
   "source": [
    "Map the words to tuples of the form *(word, 1)*."
   ]
  },
  {
   "cell_type": "code",
   "execution_count": 26,
   "metadata": {},
   "outputs": [
    {
     "data": {
      "text/plain": [
       "[('Project', 1), ('Gutenberg', 1), ('Etext', 1)]"
      ]
     },
     "execution_count": 26,
     "metadata": {},
     "output_type": "execute_result"
    }
   ],
   "source": [
    "word1RDD = wordRDD.map(lambda x: (x, 1))\n",
    "word1RDD.take(3)"
   ]
  },
  {
   "cell_type": "markdown",
   "metadata": {},
   "source": [
    "### 8) Count by reducing\n",
    "For Spark, the first part in each tuple is the 'key'. Now we can use reduceByKey() to add the 1s and get the number of occurences per word."
   ]
  },
  {
   "cell_type": "code",
   "execution_count": 27,
   "metadata": {},
   "outputs": [
    {
     "data": {
      "text/plain": [
       "[('', 2290), ('fire!', 1), ('historical-pastoral,', 1)]"
      ]
     },
     "execution_count": 27,
     "metadata": {},
     "output_type": "execute_result"
    }
   ],
   "source": [
    "wordCountRDD = word1RDD.reduceByKey(lambda x,y: x+y )\n",
    "wordCountRDD.take(3)"
   ]
  },
  {
   "cell_type": "markdown",
   "metadata": {},
   "source": [
    "### 9) Filtering and visualisation\n",
    "\n",
    "There are many empty strings returned by the splitting. We can remove them by filtering.\n",
    "Then can take a shortcut and use a ready-made functions 'count by value', which does the same as we before."
   ]
  },
  {
   "cell_type": "code",
   "execution_count": 28,
   "metadata": {},
   "outputs": [
    {
     "data": {
      "text/plain": [
       "[('ourselves.--[To', 1), ('historical-pastoral,', 1), ('heedful', 1)]"
      ]
     },
     "execution_count": 28,
     "metadata": {},
     "output_type": "execute_result"
    }
   ],
   "source": [
    "wordFilteredRDD = wordRDD.filter(lambda x: len(x)>0)\n",
    "word1RDD = wordFilteredRDD.map(lambda x: (x, 1))\n",
    "wordCountRDD = word1RDD.reduceByKey(lambda x,y: x+y )\n",
    "wordCountRDD.take(3)"
   ]
  },
  {
   "cell_type": "code",
   "execution_count": 29,
   "metadata": {
    "pixiedust": {
     "displayParams": {
      "aggregation": "SUM",
      "chartsize": "100",
      "handlerId": "barChart",
      "keyFields": "word",
      "rowCount": "50",
      "stretch": "true",
      "valueFields": "count"
     }
    }
   },
   "outputs": [
    {
     "data": {
      "text/html": [
       "<style type=\"text/css\">.pd_warning{display:none;}</style><div class=\"pd_warning\"><em>Hey, there's something awesome here! To see it, open this notebook outside GitHub, in a viewer like Jupyter</em></div>\n",
       "        <div class=\"pd_save is-viewer-good\" style=\"padding-right:10px;text-align: center;line-height:initial !important;font-size: xx-large;font-weight: 500;color: coral;\">\n",
       "            \n",
       "        </div>\n",
       "    <div id=\"chartFigure02e089ef\" class=\"pd_save is-viewer-good\" style=\"overflow-x:auto\">\n",
       "            \n",
       "                    \n",
       "                            <center><img style=\"max-width:initial !important\" src=\"data:image/png;base64,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\" class=\"pd_save\"></center>\n",
       "                        \n",
       "                    \n",
       "                \n",
       "        </div>"
      ],
      "text/plain": [
       "<IPython.core.display.HTML object>"
      ]
     },
     "metadata": {},
     "output_type": "display_data"
    }
   ],
   "source": [
    "wordCountRows = wordCountRDD.map(lambda x: Row(word=x[0], count=int(x[1])))\n",
    "wordCountDF = sqlContext.createDataFrame(wordCountRows) \n",
    "display(wordCountDF)"
   ]
  },
  {
   "cell_type": "markdown",
   "metadata": {},
   "source": [
    "## Part 3: Improvement"
   ]
  },
  {
   "cell_type": "markdown",
   "metadata": {},
   "source": [
    "## 1) Better splitting \n",
    "\n",
    "As you may have seen, currently our 'words' contain punctuation. A better was to split is using regular expressions  (Python's 're' package)(https://docs.python.org/3.5/library/re.html?highlight=regular%20expressions). `re.split('\\W+', 'my. test. string!')` does a better job. Try it out below by fixing the line that starts with '>>>'."
   ]
  },
  {
   "cell_type": "code",
   "execution_count": 48,
   "metadata": {
    "scrolled": true
   },
   "outputs": [
    {
     "data": {
      "text/plain": [
       "['Project', 'Gutenberg', 'Etext']"
      ]
     },
     "execution_count": 48,
     "metadata": {},
     "output_type": "execute_result"
    }
   ],
   "source": [
    "import re\n",
    "wordRDD = lineRDD.flatMap(lambda x: re.split('\\W+', x)) # apply re.split('\\W+', string) here\n",
    "wordFilteredRDD = wordRDD.filter(lambda x: len(x)>0) # do the filtering\n",
    "wordFilteredRDD.take(3)"
   ]
  },
  {
   "cell_type": "markdown",
   "metadata": {},
   "source": [
    "## 2) Use lower case\n",
    "\n",
    "Convert all strings to lower case (using `.lower()` provided by the Python string class), so that 'Test' and 'test' count as the same. Package it into one a tuple of the form (word,1) in the same call."
   ]
  },
  {
   "cell_type": "code",
   "execution_count": 59,
   "metadata": {},
   "outputs": [
    {
     "data": {
      "text/plain": [
       "[('project', 1), ('gutenberg', 1), ('etext', 1)]"
      ]
     },
     "execution_count": 59,
     "metadata": {},
     "output_type": "execute_result"
    }
   ],
   "source": [
    ">>> wordLowerRDD = wordFilteredRDD.map(lambda x: (x.lower(),1))\n",
    "wordLowerRDD.take(3)"
   ]
  },
  {
   "cell_type": "code",
   "execution_count": 60,
   "metadata": {},
   "outputs": [
    {
     "data": {
      "text/plain": [
       "[('was', 88), ('incontinency', 1), ('rotten', 2)]"
      ]
     },
     "execution_count": 60,
     "metadata": {},
     "output_type": "execute_result"
    }
   ],
   "source": [
    "wordCountRDD = wordLowerRDD.reduceByKey(lambda x,y: x+y) # we can now get better word count results\n",
    "wordCountRDD.take(3)"
   ]
  },
  {
   "cell_type": "markdown",
   "metadata": {},
   "source": [
    "## 3) Filter rare words\n",
    "\n",
    "Add a filtering step call remove all words with less than 5 occurrences. This can be useful to identify common topics in documents, where very rare words can be misleading. "
   ]
  },
  {
   "cell_type": "code",
   "execution_count": 68,
   "metadata": {},
   "outputs": [
    {
     "data": {
      "text/plain": [
       "[('was', 88), ('law', 9), ('proof', 6)]"
      ]
     },
     "execution_count": 68,
     "metadata": {},
     "output_type": "execute_result"
    }
   ],
   "source": [
    "# the trick here is to apply the lambda only to the second part of each item, i.e. x[1] \n",
    ">>> freqWordsRDD = wordCountRDD.filter(lambda x: x[1] > 5 ) # tip: filter keeps the times where the lambda returns true.\n",
    "freqWordsRDD.take(3)"
   ]
  },
  {
   "cell_type": "markdown",
   "metadata": {},
   "source": [
    "## 4) List only stopwords\n",
    "\n",
    "Stopwords are frequent words that are not topic-specifc.  Stopwords can be useful for recognising the style of an author. Removing stopwords can be useful in regocnising the topic of a document. \n",
    "\n",
    "Below is a small list of stopwords. Filter the tuples where the first part is a stopword."
   ]
  },
  {
   "cell_type": "code",
   "execution_count": 69,
   "metadata": {},
   "outputs": [
    {
     "data": {
      "text/plain": [
       "[('of', 733), ('at', 99), ('in', 464)]"
      ]
     },
     "execution_count": 69,
     "metadata": {},
     "output_type": "execute_result"
    }
   ],
   "source": [
    "stopWordList = ['the','a','in','of','on','at','for','by','I','you','me'] \n",
    ">>> stopWordsRDD = freqWordsRDD.filter(lambda x: x[0] in stopWordList ) # the 1st part of the tuple should be in the list\n",
    "stopWordsRDD.take(3)"
   ]
  },
  {
   "cell_type": "markdown",
   "metadata": {},
   "source": [
    "There are only a few words, so we can see the vies results. "
   ]
  },
  {
   "cell_type": "code",
   "execution_count": 70,
   "metadata": {},
   "outputs": [
    {
     "name": "stdout",
     "output_type": "stream",
     "text": [
      "of: 733\n",
      "at: 99\n",
      "in: 464\n",
      "by: 147\n",
      "a: 582\n",
      "for: 277\n",
      "the: 1218\n",
      "me: 236\n",
      "you: 610\n",
      "on: 150\n"
     ]
    }
   ],
   "source": [
    "output = stopWordsRDD.collect() \n",
    "for (word, count) in output:\n",
    "    print(\"%s: %i\" % (word, count))"
   ]
  },
  {
   "cell_type": "markdown",
   "metadata": {},
   "source": [
    "We can now visualise the stopword counts."
   ]
  },
  {
   "cell_type": "code",
   "execution_count": 71,
   "metadata": {
    "pixiedust": {
     "displayParams": {
      "aggregation": "SUM",
      "handlerId": "barChart",
      "keyFields": "_1",
      "rowCount": "500",
      "valueFields": "_2"
     }
    }
   },
   "outputs": [
    {
     "data": {
      "text/html": [
       "<style type=\"text/css\">.pd_warning{display:none;}</style><div class=\"pd_warning\"><em>Hey, there's something awesome here! To see it, open this notebook outside GitHub, in a viewer like Jupyter</em></div>\n",
       "        <div class=\"pd_save is-viewer-good\" style=\"padding-right:10px;text-align: center;line-height:initial !important;font-size: xx-large;font-weight: 500;color: coral;\">\n",
       "            \n",
       "        </div>\n",
       "    <div id=\"chartFigurea06380b4\" class=\"pd_save is-viewer-good\" style=\"overflow-x:auto\">\n",
       "            \n",
       "                    \n",
       "                            <center><img style=\"max-width:initial !important\" src=\"data:image/png;base64,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\" class=\"pd_save\"></center>\n",
       "                        \n",
       "                    \n",
       "                \n",
       "        </div>"
      ],
      "text/plain": [
       "<IPython.core.display.HTML object>"
      ]
     },
     "metadata": {},
     "output_type": "display_data"
    }
   ],
   "source": [
    "df2 = sqlContext.createDataFrame(output)\n",
    "display(df2)"
   ]
  }
 ],
 "metadata": {
  "kernelspec": {
   "display_name": "Python 3",
   "language": "python",
   "name": "python3"
  },
  "language_info": {
   "codemirror_mode": {
    "name": "ipython",
    "version": 3
   },
   "file_extension": ".py",
   "mimetype": "text/x-python",
   "name": "python",
   "nbconvert_exporter": "python",
   "pygments_lexer": "ipython3",
   "version": "3.7.3"
  }
 },
 "nbformat": 4,
 "nbformat_minor": 1
}
