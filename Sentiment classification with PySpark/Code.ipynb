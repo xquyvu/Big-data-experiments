{
 "cells": [
  {
   "cell_type": "markdown",
   "metadata": {},
   "source": [
    "# Sentiment Classification of Amazon Reviews\n",
    "by Michael Garaszczuk and Quy Vu Xuan\n",
    "\n",
    "#### DESCRIPTION AND PROBLEM\n",
    "\n",
    "It has long been demonstrated that humans are biased judges of their own behaviour, can the same be said for their ability to gauge their own reviews? Most product review processes have two elements: a discrete rating (usually out of a maximum of 5, signifying the best), along with a text field for them to voice their concerns in a personal, elaborative fashion. \n",
    "\n",
    "However, most ecommerce algorithms and customers look primarily at the current discrete rating. The premise of this study is that the model should be the determinant of discretizing a review score in order to provide a more accurate self-assessment. The current project compares TF-IDF and Word2Vec features as rating predictors when trained by a Logistic Regression model. A parameter grid-search was also implemented to find best combination of model and feature parameters.\n",
    "\n",
    "To justify our choice in Logistic Regression, we briefly compared Logistic Regression with Naive Bayes using default parameters on TF-IDF features, on a 70-30 split dataset. We found that LR outperformed Naive Bayes significantly (NB ROC = 0.57), so we chose LR to investigate further."
   ]
  },
  {
   "cell_type": "markdown",
   "metadata": {},
   "source": [
    "## TABLE OF CONTENTS\n",
    "\n",
    "#### 1. Importing the dataset\n",
    "1.1 Dataset<br>\n",
    "1.2 Create sample dataset\n",
    "#### 2. Pipeline\n",
    "2.1 Displaying data with different features\n",
    "#### 3. Naive Bayes\n",
    "3.1 Evaluating Naive Bayes on TF-IDF features\n",
    "#### 4. Logistic Regression: TF-IDF features\n",
    "4.1 Train-test 70-30 split<br>\n",
    "4.2 Train-test 90-10 split<br>\n",
    "4.3 Train-test 20-80 split\n",
    "#### 5. Logistic Regression: word2vec features\n",
    "5.1 Train-test 70-30 split<br>\n",
    "5.2 Train-test 90-10 split<br>\n",
    "5.3 Train-test 20-80 split\n",
    "#### 6. Visualizations for best models (using 70-30 split)\n",
    "6.1 Charts: LOGISTIC REGRESSION: TF-IDF<br>\n",
    "6.2 Charts: LOGISTIC REGRESSION: Word2vec\n",
    "#### 7. Conclusions\n",
    "#### 8. Code References\n"
   ]
  },
  {
   "cell_type": "markdown",
   "metadata": {},
   "source": [
    "## DEBUGGING"
   ]
  },
  {
   "cell_type": "code",
   "execution_count": 2,
   "metadata": {},
   "outputs": [],
   "source": [
    "!rm -Rf /gpfs/global_fs01/sym_shared/YPProdSpark/user/s8bb-4c006897e4ec94-b51c55267e90/notebook/jupyter-rt/kernel-0dcdc8b1-a132-4c43-9830-27dc7b2fbcd7-20180416_160750/metastore_db"
   ]
  },
  {
   "cell_type": "markdown",
   "metadata": {},
   "source": [
    "# 1. IMPORTING THE DATASET\n",
    "\n",
    "Original training dataset consisted of 4 million written reviews and their corresponding star reviews. The dataset was simplified in that 1-2 star ratings were grouped into \"bad\" class (0) and 4-5 stars were \"good\" (1). Neutral ratings (3) were removed (by the uploadeder). The dataset is available here:\n",
    "\n",
    "### 1.1 Dataset:\n",
    "\n",
    "For this project, we trained the models on a subset of the full dataset; 400k samples. With equal data (400k each model), we found that TF-IDF trained model was more accurate and quicker to train.\n",
    "\n",
    "https://www.kaggle.com/bittlingmayer/amazonreviews\n",
    "\n"
   ]
  },
  {
   "cell_type": "code",
   "execution_count": 3,
   "metadata": {},
   "outputs": [],
   "source": [
    "%matplotlib inline"
   ]
  },
  {
   "cell_type": "code",
   "execution_count": 4,
   "metadata": {},
   "outputs": [
    {
     "data": {
      "text/plain": [
       "'cos://bigdatacoursework05dfe06df12c417eb69dd543a9eec537.os_6176b85e841043d4ad81ba9e7fd3ed95_configs/test.ft.txt.bz2'"
      ]
     },
     "execution_count": 4,
     "metadata": {},
     "output_type": "execute_result"
    }
   ],
   "source": [
    "import ibmos2spark\n",
    "\n",
    "# @hidden_cell\n",
    "credentials = {\n",
    "    'endpoint': 'https://s3-api.us-geo.objectstorage.service.networklayer.com',\n",
    "    'api_key': '8Z3xyUKlhkzRPdd27G7JrlQy7m5KXwhnL7BnVtVesl-v',\n",
    "    'service_id': 'iam-ServiceId-48705193-7d1d-4f86-9ddb-85267a20a79d',\n",
    "    'iam_service_endpoint': 'https://iam.ng.bluemix.net/oidc/token'}\n",
    "\n",
    "configuration_name = 'os_6176b85e841043d4ad81ba9e7fd3ed95_configs'\n",
    "cos = ibmos2spark.CloudObjectStorage(sc, credentials, configuration_name, 'bluemix_cos')\n",
    "\n",
    "from pyspark.sql import SparkSession\n",
    "spark = SparkSession.builder.getOrCreate()\n",
    "# Please read the documentation of PySpark to learn more about the possibilities to load data files.\n",
    "# PySpark documentation: https://spark.apache.org/docs/2.0.1/api/python/pyspark.sql.html#pyspark.sql.SparkSession\n",
    "# The SparkSession object is already initialized for you.\n",
    "# The following variable contains the path to your file on your IBM Cloud Object Storage.\n",
    "path = cos.url('test.ft.txt.bz2', 'bigdatacoursework05dfe06df12c417eb69dd543a9eec537')\n",
    "path"
   ]
  },
  {
   "cell_type": "markdown",
   "metadata": {},
   "source": [
    "### 1.2 Create sample dataset"
   ]
  },
  {
   "cell_type": "code",
   "execution_count": 18,
   "metadata": {},
   "outputs": [
    {
     "name": "stdout",
     "output_type": "stream",
     "text": [
      "+-----+--------------------+\n",
      "|label|             content|\n",
      "+-----+--------------------+\n",
      "|    1|great cd: my love...|\n",
      "|    1|one of the best g...|\n",
      "|    0|batteries died wi...|\n",
      "|    1|works fine, but m...|\n",
      "|    1|great for the non...|\n",
      "|    0|dvd player crappe...|\n",
      "|    0|incorrect disc: i...|\n",
      "|    0|dvd menu select p...|\n",
      "|    1|unique weird orie...|\n",
      "|    0|not an \"ultimate ...|\n",
      "+-----+--------------------+\n",
      "only showing top 10 rows\n",
      "\n",
      "root\n",
      " |-- label: integer (nullable = true)\n",
      " |-- content: string (nullable = true)\n",
      "\n"
     ]
    }
   ],
   "source": [
    "import bz2\n",
    "a = sc.textFile(path)\n",
    "a = a.map(lambda x: x.lower())\n",
    "\n",
    "# b = a.take(400000) #Here you can adjust the total data sample size (still requires train-test split) TF-IDF can handle large sizes (~200k) whereas max\n",
    "                  #for Word Vector features (vectorsize=1000) is 10k before memory issues start to arise. We left it at 100 samples in case you wish to run it.\n",
    "# b = sc.parallelize(b)\n",
    "\n",
    "c = a.map(lambda x: (int(x[9])-1)) #Extract labels. Minus one because originally, the labels were given as 1 and 2. This step transforms the labels to 0 and 1.\n",
    "d = a.map(lambda x: x[11:]) #Extract content\n",
    "y = c.zip(d) #combine\n",
    "    \n",
    "ydf = y.toDF(['label','content']) #convert to dataframe\n",
    "ydf = ydf.selectExpr(\"cast(label as int) as label\", \"content\") \n",
    "ydf.show(10)\n",
    "ydf.printSchema()"
   ]
  },
  {
   "cell_type": "markdown",
   "metadata": {},
   "source": [
    "### 1.3 Remove punctuation"
   ]
  },
  {
   "cell_type": "code",
   "execution_count": 37,
   "metadata": {},
   "outputs": [
    {
     "data": {
      "text/plain": [
       "[Row(label=1, content='great cd my lovely pat has one of the great voices of her generation i have listened to this cd for years and i still love it when im in a good mood it makes me feel better a bad mood just evaporates like sugar in the rain this cd just oozes life vocals are jusat stuunning and lyrics just kill one of lifes hidden gems this is a desert isle cd in my book why she never made it big is just beyond me everytime i play this no matter black white young old male female everybody says one thing who was that singing '),\n",
       " Row(label=1, content='one of the best game music soundtracks  for a game i didnt really play despite the fact that i have only played a small portion of the game the music i heard plus the connection to chrono trigger which was great as well led me to purchase the soundtrack and it remains one of my favorite albums there is an incredible mix of fun epic and emotional songs those sad and beautiful tracks i especially like as theres not too many of those kinds of songs in my other video game soundtracks i must admit that one of the songs lifea distant promise has brought tears to my eyes on many occasionsmy one complaint about this soundtrack is that they use guitar fretting effects in many of the songs which i find distracting but even if those werent included i would still consider the collection worth it')]"
      ]
     },
     "execution_count": 37,
     "metadata": {},
     "output_type": "execute_result"
    }
   ],
   "source": [
    "# Remove punctuation\n",
    "from pyspark.sql.functions import *\n",
    "ydf = ydf.withColumn('content', regexp_replace('content', '[\\)\\(,./<>?\\\\#~\\'@;;!\\\"£$%^&*-=+_?\\\"]',''))\n",
    "ydf.take(2)"
   ]
  },
  {
   "cell_type": "markdown",
   "metadata": {},
   "source": [
    "# 2. PIPELINE\n",
    "\n",
    "This portion is the main preprocessing pipeline. The words in the reviews are tokenized and stopwords are removed. Afterwards it is converted into TF words vector, and then into IDF. The resulting IDF vectors become the training features."
   ]
  },
  {
   "cell_type": "code",
   "execution_count": 38,
   "metadata": {},
   "outputs": [
    {
     "name": "stdout",
     "output_type": "stream",
     "text": [
      "Row(TF=SparseVector(262144, {3370: 1.0, 4200: 1.0, 4869: 1.0, 18025: 1.0, 30006: 1.0, 31684: 1.0, 36200: 1.0, 43733: 1.0, 57341: 1.0, 57508: 1.0, 58938: 1.0, 61899: 1.0, 65938: 1.0, 74473: 1.0, 82378: 1.0, 90757: 1.0, 92144: 2.0, 96638: 1.0, 101402: 1.0, 107499: 1.0, 109580: 1.0, 111782: 1.0, 113432: 1.0, 115917: 1.0, 123981: 1.0, 125372: 3.0, 126907: 1.0, 137092: 1.0, 138356: 2.0, 140784: 1.0, 140833: 1.0, 151343: 1.0, 158716: 1.0, 161826: 1.0, 172517: 1.0, 186480: 1.0, 189113: 1.0, 190892: 1.0, 193254: 1.0, 201434: 1.0, 205285: 4.0, 208258: 1.0, 208616: 1.0, 223600: 1.0, 231008: 1.0, 234280: 1.0, 240272: 1.0, 245806: 1.0, 249130: 1.0, 250475: 1.0, 256816: 1.0, 257457: 1.0}), label=1)\n",
      "Below is the data transformed into TF-IDF features\n",
      "+-----+--------------------+--------------------+--------------------+--------------------+--------------------+\n",
      "|label|             content|        review_words|            filtered|                  TF|            features|\n",
      "+-----+--------------------+--------------------+--------------------+--------------------+--------------------+\n",
      "|    1|great cd my lovel...|[great, cd, my, l...|[great, cd, lovel...|(262144,[3370,420...|(262144,[3370,420...|\n",
      "|    1|one of the best g...|[one, of, the, be...|[one, best, game,...|(262144,[14,1998,...|(262144,[14,1998,...|\n",
      "|    0|batteries died wi...|[batteries, died,...|[batteries, died,...|(262144,[5765,636...|(262144,[5765,636...|\n",
      "|    1|works fine but ma...|[works, fine, but...|[works, fine, mah...|(262144,[12888,59...|(262144,[12888,59...|\n",
      "|    1|great for the non...|[great, for, the,...|[great, nonaudiop...|(262144,[9043,145...|(262144,[9043,145...|\n",
      "+-----+--------------------+--------------------+--------------------+--------------------+--------------------+\n",
      "only showing top 5 rows\n",
      "\n"
     ]
    }
   ],
   "source": [
    "from pyspark.ml.feature import RegexTokenizer, StopWordsRemover, Word2Vec, HashingTF, IDF\n",
    "from pyspark.ml import Pipeline\n",
    "\n",
    "# Regular expression tokenizer\n",
    "regexTokenizer = RegexTokenizer(inputCol=\"content\", outputCol=\"review_words\")\n",
    "wordsDF = regexTokenizer.transform(ydf)\n",
    "\n",
    "# Remove stop words\n",
    "remover = StopWordsRemover(inputCol=\"review_words\", outputCol=\"filtered\")\n",
    "wordsDF2 = remover.transform(wordsDF)\n",
    "\n",
    "# Convert to TF words vector\n",
    "hashingTF = HashingTF(inputCol=\"filtered\", outputCol=\"TF\") #, numFeatures=10000 \n",
    "wordsDF3 = hashingTF.transform(wordsDF2)\n",
    "\n",
    "for features_label in wordsDF3.select(\"TF\", \"label\").take(1):\n",
    "    print(features_label)\n",
    "\n",
    "# Convert to IDF words vector\n",
    "idf = IDF(inputCol=\"TF\", outputCol=\"features\")\n",
    "idfModel = idf.fit(wordsDF3)\n",
    "wordsDF4 = idfModel.transform(wordsDF3)\n",
    "print('Below is the data transformed into TF-IDF features')\n",
    "wordsDF4.show(5)\n",
    "\n",
    "#Create word vectors\n",
    "word2Vec = Word2Vec(minCount=5, inputCol=\"filtered\", outputCol=\"features\") #vectorSize=30, "
   ]
  },
  {
   "cell_type": "markdown",
   "metadata": {},
   "source": [
    "### 2.1 Displaying data with different features\n",
    "(Takes a while with large dataset)."
   ]
  },
  {
   "cell_type": "code",
   "execution_count": 39,
   "metadata": {},
   "outputs": [
    {
     "name": "stdout",
     "output_type": "stream",
     "text": [
      "TF-IDF feature dataset\n",
      "+-----+--------------------+--------------------+--------------------+--------------------+--------------------+\n",
      "|label|             content|        review_words|            filtered|                  TF|            features|\n",
      "+-----+--------------------+--------------------+--------------------+--------------------+--------------------+\n",
      "|    1|great cd my lovel...|[great, cd, my, l...|[great, cd, lovel...|(262144,[3370,420...|(262144,[3370,420...|\n",
      "|    1|one of the best g...|[one, of, the, be...|[one, best, game,...|(262144,[14,1998,...|(262144,[14,1998,...|\n",
      "|    0|batteries died wi...|[batteries, died,...|[batteries, died,...|(262144,[5765,636...|(262144,[5765,636...|\n",
      "|    1|works fine but ma...|[works, fine, but...|[works, fine, mah...|(262144,[12888,59...|(262144,[12888,59...|\n",
      "|    1|great for the non...|[great, for, the,...|[great, nonaudiop...|(262144,[9043,145...|(262144,[9043,145...|\n",
      "+-----+--------------------+--------------------+--------------------+--------------------+--------------------+\n",
      "only showing top 5 rows\n",
      "\n",
      "Word Vector feature dataset\n",
      "+-----+--------------------+--------------------+--------------------+--------------------+\n",
      "|label|             content|        review_words|            filtered|            features|\n",
      "+-----+--------------------+--------------------+--------------------+--------------------+\n",
      "|    1|great cd my lovel...|[great, cd, my, l...|[great, cd, lovel...|[0.02871366156170...|\n",
      "|    1|one of the best g...|[one, of, the, be...|[one, best, game,...|[0.00170480309914...|\n",
      "|    0|batteries died wi...|[batteries, died,...|[batteries, died,...|[-0.0108036243905...|\n",
      "|    1|works fine but ma...|[works, fine, but...|[works, fine, mah...|[0.08004453326777...|\n",
      "|    1|great for the non...|[great, for, the,...|[great, nonaudiop...|[0.08047445598058...|\n",
      "+-----+--------------------+--------------------+--------------------+--------------------+\n",
      "only showing top 5 rows\n",
      "\n"
     ]
    }
   ],
   "source": [
    "pipeline = Pipeline(stages=[regexTokenizer, remover, hashingTF, idfModel])\n",
    "pipelineFit = pipeline.fit(ydf)\n",
    "dataset = pipelineFit.transform(ydf)\n",
    "print('TF-IDF feature dataset')\n",
    "dataset.show(5)\n",
    "\n",
    "pipeline2 = Pipeline(stages=[regexTokenizer, remover, word2Vec])\n",
    "pipelineFit2 = pipeline2.fit(ydf)\n",
    "dataset2 = pipelineFit2.transform(ydf)\n",
    "print('Word Vector feature dataset')\n",
    "dataset2.show(5)"
   ]
  },
  {
   "cell_type": "markdown",
   "metadata": {},
   "source": [
    "# 3. NAIVE BAYES"
   ]
  },
  {
   "cell_type": "markdown",
   "metadata": {},
   "source": [
    "### 3.1 Evaluating NB on TF-IDF features"
   ]
  },
  {
   "cell_type": "code",
   "execution_count": 42,
   "metadata": {},
   "outputs": [
    {
     "name": "stdout",
     "output_type": "stream",
     "text": [
      "Test: Area Under ROC with smoothing parameter = 0.5: 0.539\n",
      "Test: Area Under ROC with smoothing parameter = 1.0: 0.539\n",
      "Test: Area Under ROC with smoothing parameter = 1.5: 0.539\n"
     ]
    }
   ],
   "source": [
    "from pyspark.ml.classification import NaiveBayes\n",
    "from pyspark.ml.evaluation import BinaryClassificationEvaluator\n",
    "\n",
    "\n",
    "(trainingData, testData) = dataset.randomSplit([0.7, 0.3], seed = 999) #TF-IDF dataset\n",
    "\n",
    "for i in [0.5, 1.0, 1.5]:\n",
    "    # create the trainer and set its parameters\n",
    "    nb = NaiveBayes(smoothing=i, modelType=\"multinomial\")\n",
    "    \n",
    "    # train the model\n",
    "    model = nb.fit(trainingData)\n",
    "    \n",
    "    # predict from the test data\n",
    "    prediction = model.transform(testData)\n",
    "    \n",
    "    # Calculate area under the ROC curve\n",
    "    evaluator = BinaryClassificationEvaluator(labelCol=\"label\", metricName=\"areaUnderROC\")\n",
    "    ROC = evaluator.evaluate(prediction)\n",
    "    AUROC_score = evaluator.evaluate(prediction, {evaluator.metricName: \"areaUnderROC\"})\n",
    "    \n",
    "    # Print out results\n",
    "    print(\"Test: Area Under ROC with smoothing parameter = {}: {}\".format(i, format(AUROC_score, '.3f')))"
   ]
  },
  {
   "cell_type": "markdown",
   "metadata": {},
   "source": [
    "# 4. LOGISTIC REGRESSION: TF-IDF FEATURES"
   ]
  },
  {
   "cell_type": "code",
   "execution_count": 6,
   "metadata": {},
   "outputs": [],
   "source": [
    "from pyspark.ml.classification import LogisticRegression\n",
    "from pyspark.ml.classification import LogisticRegressionModel\n",
    "from pyspark.ml.evaluation import BinaryClassificationEvaluator\n",
    "from pyspark.ml.tuning import TrainValidationSplit, ParamGridBuilder\n",
    "\n",
    "import matplotlib.pyplot as plt\n",
    "import numpy as np\n",
    "from time import time"
   ]
  },
  {
   "cell_type": "markdown",
   "metadata": {},
   "source": [
    "### 4.1 Train-test 70-30 split:"
   ]
  },
  {
   "cell_type": "code",
   "execution_count": 9,
   "metadata": {},
   "outputs": [
    {
     "name": "stdout",
     "output_type": "stream",
     "text": [
      "+--------------------+--------------------+-----+----------+\n",
      "|             content|         probability|label|prediction|\n",
      "+--------------------+--------------------+-----+----------+\n",
      "|!!why pay for thi...|[0.91433887252130...|    0|       0.0|\n",
      "|\" great fiction n...|[0.13940101266476...|    0|       1.0|\n",
      "|\"a classic\" as an...|[0.67034259304728...|    0|       0.0|\n",
      "|\"a heart made out...|[0.92761523227264...|    0|       0.0|\n",
      "|\"alive\": go p.o.d...|[0.02137955915871...|    0|       1.0|\n",
      "+--------------------+--------------------+-----+----------+\n",
      "only showing top 5 rows\n",
      "\n",
      "ROC:\n",
      "0.933719898576614\n",
      "Time to train in seconds:\n",
      "443.01078605651855\n"
     ]
    }
   ],
   "source": [
    "# Train-Test split) \n",
    "(train_set, test_set) = ydf.randomSplit([0.70, 0.3], seed = 2000)\n",
    "\n",
    "# Pick best ML model.\n",
    "lr = LogisticRegression(maxIter=10, family ='binomial')\n",
    "\n",
    "#declare our pipeline.\n",
    "pipeline = Pipeline(stages=[regexTokenizer, remover, hashingTF, idfModel, lr])\n",
    "\n",
    "#Create our grid for grid search of best params.\n",
    "paramGrid = ParamGridBuilder() \\\n",
    "    .addGrid(hashingTF.numFeatures, [100, 1000, 10000, 100000]) \\\n",
    "    .addGrid(lr.regParam, [0.1, 0.01, 0.001]) \\\n",
    "    .build()\n",
    "\n",
    "tvs = TrainValidationSplit(estimator=pipeline,\n",
    "                           estimatorParamMaps=paramGrid,\n",
    "                           evaluator=BinaryClassificationEvaluator(),\n",
    "                           # 80% of the data will be used for training, 20% for validation.\n",
    "                           trainRatio=0.8)\n",
    "\n",
    "# Train and choose the best set of parameters.\n",
    "startTime = time()\n",
    "model = tvs.fit(train_set)\n",
    "endTime = time()\n",
    "# Make predictions on test documents. cvModel uses the best model found (lrModel).\n",
    "prediction = model.transform(test_set)\n",
    "selected = prediction.select(\"content\", \"probability\", \"label\", \"prediction\").show(5)\n",
    "#for row in selected:\n",
    "#    print(row)\n",
    "\n",
    "# Evaluate result with ROC\n",
    "evaluator = BinaryClassificationEvaluator(labelCol=\"label\", metricName=\"areaUnderROC\")\n",
    "ROC = evaluator.evaluate(prediction)\n",
    "print('ROC:')\n",
    "print(ROC)\n",
    "totalTime = endTime - startTime \n",
    "print('Time to train in seconds:')\n",
    "print(totalTime)"
   ]
  },
  {
   "cell_type": "code",
   "execution_count": 29,
   "metadata": {},
   "outputs": [
    {
     "name": "stdout",
     "output_type": "stream",
     "text": [
      "Best RegParam and numFeatures values are:\n",
      "0.1 10000\n"
     ]
    }
   ],
   "source": [
    "#Get best RegParam and numFeatures for 70-30 train-test split\n",
    "RP = [x._java_obj.getRegParam() \n",
    "for x in model.bestModel.stages if isinstance(x, LogisticRegressionModel)]\n",
    "\n",
    "NF = model.bestModel.stages[2].getNumFeatures()\n",
    "\n",
    "\n",
    "print('Best RegParam and numFeatures values are:')\n",
    "print(RP[0], NF)"
   ]
  },
  {
   "cell_type": "markdown",
   "metadata": {},
   "source": [
    "##### RESULTS (4.1) Best Params for 70-30 train-test split:\n",
    "\n",
    "LR with 10000 features and 0.1 regparam (best combo)\n",
    "\n",
    "ROC: <br>0.9220988626134164\n",
    "\n",
    "Time to train in seconds: <br> 532.0604159832001"
   ]
  },
  {
   "cell_type": "markdown",
   "metadata": {},
   "source": [
    "### 4.2 Train-test 90-10 split"
   ]
  },
  {
   "cell_type": "code",
   "execution_count": 30,
   "metadata": {},
   "outputs": [
    {
     "name": "stdout",
     "output_type": "stream",
     "text": [
      "+--------------------+--------------------+-----+----------+\n",
      "|             content|         probability|label|prediction|\n",
      "+--------------------+--------------------+-----+----------+\n",
      "|\" this is not it....|[0.45611786181752...|    0|       1.0|\n",
      "|\"and the band pla...|[0.86433461267588...|    0|       0.0|\n",
      "|\"bored on thursda...|[0.70978882139664...|    0|       0.0|\n",
      "|\"culinary holy gr...|[0.68538238023555...|    0|       0.0|\n",
      "|\"flawless victory...|[0.97690176370966...|    0|       0.0|\n",
      "+--------------------+--------------------+-----+----------+\n",
      "only showing top 5 rows\n",
      "\n",
      "ROC:\n",
      "0.9259325040041\n",
      "Time to train in seconds:\n",
      "556.6214768886566\n"
     ]
    }
   ],
   "source": [
    "# Train-Test split) \n",
    "(train_set, test_set) = ydf.randomSplit([0.90, 0.1], seed = 100)\n",
    "\n",
    "# Pick best ML model.\n",
    "lr = LogisticRegression(maxIter=10, family ='binomial')\n",
    "\n",
    "#declare our pipeline.\n",
    "pipeline = Pipeline(stages=[regexTokenizer, remover, hashingTF, idfModel, lr])\n",
    "\n",
    "#Create our grid for grid search of best params.\n",
    "paramGrid = ParamGridBuilder() \\\n",
    "    .addGrid(hashingTF.numFeatures, [100, 1000, 10000, 100000]) \\\n",
    "    .addGrid(lr.regParam, [0.1, 0.01, 0.001]) \\\n",
    "    .build()\n",
    "\n",
    "tvs = TrainValidationSplit(estimator=pipeline,\n",
    "                           estimatorParamMaps=paramGrid,\n",
    "                           evaluator=BinaryClassificationEvaluator(),\n",
    "                           # 80% of the data will be used for training, 20% for validation.\n",
    "                           trainRatio=0.8)\n",
    "\n",
    "# Train and choose the best set of parameters.\n",
    "startTime = time()\n",
    "model = tvs.fit(train_set)\n",
    "endTime = time()\n",
    "\n",
    "# Make predictions on test documents. \n",
    "prediction = model.transform(test_set)\n",
    "selected = prediction.select(\"content\", \"probability\", \"label\", \"prediction\").show(5)\n",
    "#for row in selected:\n",
    "#    print(row)\n",
    "\n",
    "# Evaluate result with ROC\n",
    "evaluator = BinaryClassificationEvaluator(labelCol=\"label\", metricName=\"areaUnderROC\")\n",
    "ROC = evaluator.evaluate(prediction)\n",
    "print('ROC:')\n",
    "print(ROC)\n",
    "totalTime = endTime - startTime \n",
    "print('Time to train in seconds:')\n",
    "print(totalTime)"
   ]
  },
  {
   "cell_type": "code",
   "execution_count": null,
   "metadata": {},
   "outputs": [],
   "source": [
    "#Get best RegParam and numFeatures for 90-10 train-test split\n",
    "RP = [x._java_obj.getRegParam() \n",
    "for x in model.bestModel.stages if isinstance(x, LogisticRegressionModel)]\n",
    "\n",
    "NF = model.bestModel.stages[2].getNumFeatures()\n",
    "\n",
    "\n",
    "print('Best RegParam and numFeatures values are:')\n",
    "RP[0], NF"
   ]
  },
  {
   "cell_type": "markdown",
   "metadata": {},
   "source": [
    "##### RESULTS (4.2) Best Params for 90-10 train-test split:\n",
    "LR with 10000 features and 0.1 regparam (best combo)\n",
    "\n",
    "\n",
    "ROC: <br> 0.9259325040041\n",
    "\n",
    "Time to train in seconds: <br> 556.6214768886566\n",
    "\n",
    "This slight increase in accuracy was expected given a larger training size."
   ]
  },
  {
   "cell_type": "markdown",
   "metadata": {},
   "source": [
    "### 4.3 Train-test 20-80 split"
   ]
  },
  {
   "cell_type": "code",
   "execution_count": 31,
   "metadata": {},
   "outputs": [
    {
     "name": "stdout",
     "output_type": "stream",
     "text": [
      "+--------------------+--------------------+-----+----------+\n",
      "|             content|         probability|label|prediction|\n",
      "+--------------------+--------------------+-----+----------+\n",
      "|!!!! do not purch...|[0.85113850176799...|    0|       0.0|\n",
      "|!!!not enough to ...|[0.32239906927907...|    0|       1.0|\n",
      "|!!!please note!!!...|[0.68707524603882...|    0|       0.0|\n",
      "|\" smile\"............|[0.82254399998427...|    0|       0.0|\n",
      "|\" this is not it....|[0.59721921112047...|    0|       0.0|\n",
      "+--------------------+--------------------+-----+----------+\n",
      "only showing top 5 rows\n",
      "\n",
      "ROC:\n",
      "0.9023694376121802\n",
      "Time to train in seconds:\n",
      "477.7003083229065\n"
     ]
    }
   ],
   "source": [
    "# Train-Test split) \n",
    "(train_set, test_set) = ydf.randomSplit([0.2, 0.8], seed = 120)\n",
    "\n",
    "# Pick best ML model.\n",
    "lr = LogisticRegression(maxIter=10, family ='binomial')\n",
    "\n",
    "#declare our pipeline.\n",
    "pipeline = Pipeline(stages=[regexTokenizer, remover, hashingTF, idfModel, lr])\n",
    "\n",
    "#Create our grid for grid search of best params.\n",
    "paramGrid = ParamGridBuilder() \\\n",
    "    .addGrid(hashingTF.numFeatures, [100, 1000, 10000, 100000]) \\\n",
    "    .addGrid(lr.regParam, [0.1, 0.01, 0.001]) \\\n",
    "    .build()\n",
    "\n",
    "tvs = TrainValidationSplit(estimator=pipeline,\n",
    "                           estimatorParamMaps=paramGrid,\n",
    "                           evaluator=BinaryClassificationEvaluator(),\n",
    "                           # 80% of the data will be used for training, 20% for validation.\n",
    "                           trainRatio=0.8)\n",
    "\n",
    "# Train and choose the best set of parameters.\n",
    "startTime = time()\n",
    "model = tvs.fit(train_set)\n",
    "endTime = time()\n",
    "\n",
    "\n",
    "# Make predictions on test documents. \n",
    "prediction = model.transform(test_set)\n",
    "selected = prediction.select(\"content\", \"probability\", \"label\", \"prediction\").show(5)\n",
    "#for row in selected:\n",
    "#    print(row)\n",
    "\n",
    "# Evaluate result with ROC\n",
    "evaluator = BinaryClassificationEvaluator(labelCol=\"label\", metricName=\"areaUnderROC\")\n",
    "ROC = evaluator.evaluate(prediction)\n",
    "print('ROC:')\n",
    "print(ROC)\n",
    "totalTime = endTime - startTime \n",
    "print('Time to train in seconds:')\n",
    "print(totalTime)"
   ]
  },
  {
   "cell_type": "code",
   "execution_count": 32,
   "metadata": {},
   "outputs": [
    {
     "name": "stdout",
     "output_type": "stream",
     "text": [
      "Best RegParam and numFeatures values are:\n"
     ]
    },
    {
     "data": {
      "text/plain": [
       "(0.1, 10000)"
      ]
     },
     "execution_count": 32,
     "metadata": {},
     "output_type": "execute_result"
    }
   ],
   "source": [
    "#Get best RegParam and numFeatures for 20-80 train-test split\n",
    "RP = [x._java_obj.getRegParam() \n",
    "for x in model.bestModel.stages if isinstance(x, LogisticRegressionModel)]\n",
    "\n",
    "NF = model.bestModel.stages[2].getNumFeatures()\n",
    "\n",
    "\n",
    "print('Best RegParam and numFeatures values are:')\n",
    "RP[0], NF"
   ]
  },
  {
   "cell_type": "markdown",
   "metadata": {},
   "source": [
    "##### RESULTS (4.3) Best Params for 20-80 train-test split:\n",
    "LR with 10000 features and 0.1 regparam (best combo)\n",
    "\n",
    "\n",
    "ROC: <br> 0.9023694376121802\n",
    "\n",
    "Time to train in seconds: <br> 477.7003083229065\n",
    "\n",
    "\n",
    "Decrease in ROC (as well as training time) also unsurprising."
   ]
  },
  {
   "cell_type": "markdown",
   "metadata": {},
   "source": [
    "# 5. LOGISTIC REGRESSION: WORD2VEC FEATURES\n",
    "\n",
    "Here we examine LR's performance using Word2vec features."
   ]
  },
  {
   "cell_type": "code",
   "execution_count": null,
   "metadata": {},
   "outputs": [],
   "source": [
    "from pyspark.ml.feature import Word2VecModel"
   ]
  },
  {
   "cell_type": "markdown",
   "metadata": {},
   "source": [
    "### 5.1 Train-test 70-30 split:"
   ]
  },
  {
   "cell_type": "code",
   "execution_count": 6,
   "metadata": {},
   "outputs": [
    {
     "name": "stdout",
     "output_type": "stream",
     "text": [
      "+--------------------+--------------------+-----+----------+\n",
      "|             content|         probability|label|prediction|\n",
      "+--------------------+--------------------+-----+----------+\n",
      "|\"\"\" solution for ...|[0.96555591545282...|    0|       0.0|\n",
      "|\"be afraid, be ve...|[0.81301753159905...|    0|       0.0|\n",
      "|\"bored on thursda...|[0.47824064990582...|    0|       1.0|\n",
      "|\"case closed\"!?!?...|[0.76371035582002...|    0|       0.0|\n",
      "|\"clay\" does not h...|[0.60353443394332...|    0|       0.0|\n",
      "+--------------------+--------------------+-----+----------+\n",
      "only showing top 5 rows\n",
      "\n",
      "ROC:\n",
      "0.8892915180629861\n",
      "Time to train in seconds:\n",
      "1440.287698507309\n"
     ]
    }
   ],
   "source": [
    "# Train-Test split) \n",
    "(train_set, test_set) = ydf.randomSplit([0.7, 0.3], seed = 695)\n",
    "\n",
    "# Pick best ML model.\n",
    "lr = LogisticRegression(maxIter=10, family ='binomial')\n",
    "\n",
    "#declare our pipeline.\n",
    "pipeline = Pipeline(stages=[regexTokenizer, remover, word2Vec, lr])\n",
    "\n",
    "#Create our grid for grid search of best params.\n",
    "paramGrid = ParamGridBuilder() \\\n",
    "    .addGrid(word2Vec.vectorSize, [10, 20, 30]) \\\n",
    "    .addGrid(lr.regParam, [0.1, 0.01, 0.001]) \\\n",
    "    .build()\n",
    "\n",
    "tvs = TrainValidationSplit(estimator=pipeline,\n",
    "                           estimatorParamMaps=paramGrid,\n",
    "                           evaluator=BinaryClassificationEvaluator(),\n",
    "                           # 80% of the data will be used for training, 20% for validation.\n",
    "                           trainRatio=0.8)\n",
    "\n",
    "# Train and choose the best set of parameters.\n",
    "startTime = time()\n",
    "model = tvs.fit(train_set)\n",
    "endTime = time()\n",
    "# Make predictions on test documents. \n",
    "prediction = model.transform(test_set)\n",
    "selected = prediction.select(\"content\", \"probability\", \"label\", \"prediction\").show(5)\n",
    "#for row in selected:\n",
    "#    print(row)\n",
    "\n",
    "# Evaluate result with ROC\n",
    "evaluator = BinaryClassificationEvaluator(labelCol=\"label\", metricName=\"areaUnderROC\")\n",
    "ROC = evaluator.evaluate(prediction)\n",
    "print('ROC:')\n",
    "print(ROC)\n",
    "totalTime = endTime - startTime \n",
    "print('Time to train in seconds:')\n",
    "print(totalTime)"
   ]
  },
  {
   "cell_type": "code",
   "execution_count": 7,
   "metadata": {},
   "outputs": [
    {
     "name": "stdout",
     "output_type": "stream",
     "text": [
      "Best RegParam and vector size values are:\n"
     ]
    },
    {
     "data": {
      "text/plain": [
       "([0.001], [30])"
      ]
     },
     "execution_count": 7,
     "metadata": {},
     "output_type": "execute_result"
    }
   ],
   "source": [
    "#Get best RegParam and vector size for 70-30 train-test split\n",
    "RP = [x._java_obj.getRegParam() \n",
    "for x in model.bestModel.stages if isinstance(x, LogisticRegressionModel)]\n",
    "\n",
    "VS = [x._java_obj.getVectorSize()\n",
    "for x in model.bestModel.stages if isinstance(x, Word2VecModel)]\n",
    "\n",
    "print('Best RegParam and vector size values are:')\n",
    "RP, VS"
   ]
  },
  {
   "cell_type": "markdown",
   "metadata": {},
   "source": [
    "##### RESULTS (5.1) Best Params for 70-30 train-test split:\n",
    "LR with word2vec vector size 30 and 0.001 regparam (best combo)\n",
    "\n",
    "ROC: <br> 0.8892915180629861\n",
    "\n",
    "Time to train in seconds: <br> 1440.287698507309"
   ]
  },
  {
   "cell_type": "markdown",
   "metadata": {},
   "source": [
    "### 5.2 Train-test 90-10 split:"
   ]
  },
  {
   "cell_type": "code",
   "execution_count": 7,
   "metadata": {},
   "outputs": [
    {
     "name": "stdout",
     "output_type": "stream",
     "text": [
      "+--------------------+--------------------+-----+----------+\n",
      "|             content|         probability|label|prediction|\n",
      "+--------------------+--------------------+-----+----------+\n",
      "|!: this doll is v...|[0.98649896395114...|    0|       0.0|\n",
      "|\"4\" for content, ...|[0.95936461549405...|    0|       0.0|\n",
      "|\"alex is fun, the...|[0.28973871133474...|    0|       1.0|\n",
      "|\"america\" is one ...|[0.77074468074995...|    0|       0.0|\n",
      "|\"american\" lawn m...|[0.83103914135234...|    0|       0.0|\n",
      "+--------------------+--------------------+-----+----------+\n",
      "only showing top 5 rows\n",
      "\n",
      "ROC:\n",
      "0.8837599164967989\n",
      "Time to train in seconds:\n",
      "1835.438845872879\n"
     ]
    }
   ],
   "source": [
    "# Train-Test split) \n",
    "(train_set, test_set) = ydf.randomSplit([0.7, 0.3], seed = 695)\n",
    "\n",
    "# Pick best ML model.\n",
    "lr = LogisticRegression(maxIter=10, family ='binomial')\n",
    "\n",
    "#declare our pipeline.\n",
    "pipeline = Pipeline(stages=[regexTokenizer, remover, word2Vec, lr])\n",
    "\n",
    "#Create our grid for grid search of best params.\n",
    "paramGrid = ParamGridBuilder() \\\n",
    "    .addGrid(word2Vec.vectorSize, [10, 20, 30]) \\\n",
    "    .addGrid(lr.regParam, [0.1, 0.01, 0.001]) \\\n",
    "    .build()\n",
    "\n",
    "tvs = TrainValidationSplit(estimator=pipeline,\n",
    "                           estimatorParamMaps=paramGrid,\n",
    "                           evaluator=BinaryClassificationEvaluator(),\n",
    "                           # 80% of the data will be used for training, 20% for validation.\n",
    "                           trainRatio=0.8)\n",
    "\n",
    "# Train and choose the best set of parameters.\n",
    "startTime = time()\n",
    "model = tvs.fit(train_set)\n",
    "endTime = time()\n",
    "# Make predictions on test documents. \n",
    "prediction = model.transform(test_set)\n",
    "selected = prediction.select(\"content\", \"probability\", \"label\", \"prediction\").show(5)\n",
    "#for row in selected:\n",
    "#    print(row)\n",
    "\n",
    "# Evaluate result with ROC\n",
    "evaluator = BinaryClassificationEvaluator(labelCol=\"label\", metricName=\"areaUnderROC\")\n",
    "ROC = evaluator.evaluate(prediction)\n",
    "print('ROC:')\n",
    "print(ROC)\n",
    "totalTime = endTime - startTime \n",
    "print('Time to train in seconds:')\n",
    "print(totalTime)"
   ]
  },
  {
   "cell_type": "code",
   "execution_count": 8,
   "metadata": {},
   "outputs": [
    {
     "name": "stdout",
     "output_type": "stream",
     "text": [
      "Best RegParam and vector size values are:\n"
     ]
    },
    {
     "data": {
      "text/plain": [
       "([0.001], [30])"
      ]
     },
     "execution_count": 8,
     "metadata": {},
     "output_type": "execute_result"
    }
   ],
   "source": [
    "#Get best RegParam and vector size for 20-80 train-test split\n",
    "RP = [x._java_obj.getRegParam() \n",
    "for x in model.bestModel.stages if isinstance(x, LogisticRegressionModel)]\n",
    "\n",
    "VS = [x._java_obj.getVectorSize()\n",
    "for x in model.bestModel.stages if isinstance(x, Word2VecModel)]\n",
    "\n",
    "print('Best RegParam and vector size values are:')\n",
    "RP, VS"
   ]
  },
  {
   "cell_type": "markdown",
   "metadata": {},
   "source": [
    "##### RESULTS (5.2) Best Params for 90-10 train-test split:\n",
    "LR with word2vec vector size X and X regparam (best combo)\n",
    "\n",
    "ROC: <br> 0.8837599164967989\n",
    "\n",
    "Time to train in seconds: <br>\n",
    "1835.438845872879"
   ]
  },
  {
   "cell_type": "markdown",
   "metadata": {},
   "source": [
    "### 5.3 Train-test 20-80 split:"
   ]
  },
  {
   "cell_type": "code",
   "execution_count": 8,
   "metadata": {},
   "outputs": [
    {
     "name": "stdout",
     "output_type": "stream",
     "text": [
      "+--------------------+--------------------+-----+----------+\n",
      "|             content|         probability|label|prediction|\n",
      "+--------------------+--------------------+-----+----------+\n",
      "|!!!! do not purch...|[0.85830014341935...|    0|       0.0|\n",
      "|!!!not enough to ...|[0.20458024990134...|    0|       1.0|\n",
      "|!!!please note!!!...|[0.81351864377722...|    0|       0.0|\n",
      "|\" great fiction n...|[0.28642571312206...|    0|       1.0|\n",
      "|\" smile\"............|[0.75054734376017...|    0|       0.0|\n",
      "+--------------------+--------------------+-----+----------+\n",
      "only showing top 5 rows\n",
      "\n",
      "ROC:\n",
      "0.8722342208478728\n",
      "Time to train in seconds:\n",
      "774.2305555343628\n"
     ]
    }
   ],
   "source": [
    "# Train-Test split) \n",
    "(train_set, test_set) = ydf.randomSplit([0.2, 0.8], seed = 695)\n",
    "\n",
    "# Pick best ML model.\n",
    "lr = LogisticRegression(maxIter=10, family ='binomial')\n",
    "\n",
    "#declare our pipeline.\n",
    "pipeline = Pipeline(stages=[regexTokenizer, remover, word2Vec, lr])\n",
    "\n",
    "#Create our grid for grid search of best params.\n",
    "paramGrid = ParamGridBuilder() \\\n",
    "    .addGrid(word2Vec.vectorSize, [10, 20, 30]) \\\n",
    "    .addGrid(lr.regParam, [0.1, 0.01, 0.001]) \\\n",
    "    .build()\n",
    "\n",
    "tvs = TrainValidationSplit(estimator=pipeline,\n",
    "                           estimatorParamMaps=paramGrid,\n",
    "                           evaluator=BinaryClassificationEvaluator(),\n",
    "                           # 80% of the data will be used for training, 20% for validation.\n",
    "                           trainRatio=0.8)\n",
    "\n",
    "# Train and choose the best set of parameters.\n",
    "startTime = time()\n",
    "model = tvs.fit(train_set)\n",
    "endTime = time()\n",
    "# Make predictions on test documents. \n",
    "prediction = model.transform(test_set)\n",
    "selected = prediction.select(\"content\", \"probability\", \"label\", \"prediction\").show(5)\n",
    "#for row in selected:\n",
    "#    print(row)\n",
    "\n",
    "# Evaluate result with ROC\n",
    "evaluator = BinaryClassificationEvaluator(labelCol=\"label\", metricName=\"areaUnderROC\")\n",
    "ROC = evaluator.evaluate(prediction)\n",
    "print('ROC:')\n",
    "print(ROC)\n",
    "totalTime = endTime - startTime \n",
    "print('Time to train in seconds:')\n",
    "print(totalTime)"
   ]
  },
  {
   "cell_type": "code",
   "execution_count": 9,
   "metadata": {},
   "outputs": [
    {
     "name": "stdout",
     "output_type": "stream",
     "text": [
      "Best RegParam and vector size values are:\n"
     ]
    },
    {
     "data": {
      "text/plain": [
       "([0.01], [30])"
      ]
     },
     "execution_count": 9,
     "metadata": {},
     "output_type": "execute_result"
    }
   ],
   "source": [
    "#Get best RegParam and vector size for 20-80 train-test split\n",
    "RP = [x._java_obj.getRegParam() \n",
    "for x in model.bestModel.stages if isinstance(x, LogisticRegressionModel)]\n",
    "\n",
    "VS = [x._java_obj.getVectorSize()\n",
    "for x in model.bestModel.stages if isinstance(x, Word2VecModel)]\n",
    "\n",
    "print('Best RegParam and vector size values are:')\n",
    "RP, VS"
   ]
  },
  {
   "cell_type": "markdown",
   "metadata": {},
   "source": [
    "##### RESULTS (5.3) Best Params for 20-80 train-test split:\n",
    "LR with word2vec vector size 30 and 0.01 regparam (best combo)\n",
    "\n",
    "ROC: <br> 0.8722342208478728\n",
    "\n",
    "Time to train in seconds: <br>\n",
    "774.2305555343628"
   ]
  },
  {
   "cell_type": "markdown",
   "metadata": {},
   "source": [
    "# 6. VISUALIZATIONS FOR BEST MODELS (70-30 SPLIT)"
   ]
  },
  {
   "cell_type": "code",
   "execution_count": 11,
   "metadata": {},
   "outputs": [
    {
     "name": "stdout",
     "output_type": "stream",
     "text": [
      "TF-IDF feature dataset\n",
      "+-----+--------------------+--------------------+--------------------+--------------------+--------------------+\n",
      "|label|             content|        review_words|            filtered|                  TF|            features|\n",
      "+-----+--------------------+--------------------+--------------------+--------------------+--------------------+\n",
      "|    1|great cd: my love...|[great, cd:, my, ...|[great, cd:, love...|(10000,[126,151,3...|(10000,[126,151,3...|\n",
      "|    1|one of the best g...|[one, of, the, be...|[one, best, game,...|(10000,[312,325,6...|(10000,[312,325,6...|\n",
      "|    0|batteries died wi...|[batteries, died,...|[batteries, died,...|(10000,[152,157,8...|(10000,[152,157,8...|\n",
      "|    1|works fine, but m...|[works, fine,, bu...|[works, fine,, ma...|(10000,[89,185,93...|(10000,[89,185,93...|\n",
      "|    1|great for the non...|[great, for, the,...|[great, non-audio...|(10000,[157,172,5...|(10000,[157,172,5...|\n",
      "+-----+--------------------+--------------------+--------------------+--------------------+--------------------+\n",
      "only showing top 5 rows\n",
      "\n",
      "Word Vector feature dataset\n",
      "+-----+--------------------+--------------------+--------------------+--------------------+\n",
      "|label|             content|        review_words|            filtered|            features|\n",
      "+-----+--------------------+--------------------+--------------------+--------------------+\n",
      "|    1|great cd: my love...|[great, cd:, my, ...|[great, cd:, love...|[-0.1256633750454...|\n",
      "|    1|one of the best g...|[one, of, the, be...|[one, best, game,...|[-0.0594131878094...|\n",
      "|    0|batteries died wi...|[batteries, died,...|[batteries, died,...|[0.11265337815069...|\n",
      "|    1|works fine, but m...|[works, fine,, bu...|[works, fine,, ma...|[0.13475371718406...|\n",
      "|    1|great for the non...|[great, for, the,...|[great, non-audio...|[0.05358056099403...|\n",
      "+-----+--------------------+--------------------+--------------------+--------------------+\n",
      "only showing top 5 rows\n",
      "\n"
     ]
    }
   ],
   "source": [
    "#Takes some time, depending on the dataset size. \n",
    "\n",
    "hashingTF = HashingTF(inputCol=\"filtered\", outputCol=\"TF\", numFeatures = 10000) #MANUALLY SPECIFY BEST numFeatures\n",
    "pipeline = Pipeline(stages=[regexTokenizer, remover, hashingTF, idfModel])\n",
    "pipelineFit = pipeline.fit(ydf)\n",
    "dataset = pipelineFit.transform(ydf)\n",
    "print('TF-IDF feature dataset')\n",
    "dataset.show(5)\n",
    "\n",
    "\n",
    "word2Vec = Word2Vec(vectorSize=30,minCount=5, inputCol=\"filtered\", outputCol=\"features\") #MANUALLY SPECIFY BEST vectorSize\n",
    "pipeline2 = Pipeline(stages=[regexTokenizer, remover, word2Vec])\n",
    "pipelineFit2 = pipeline2.fit(ydf)\n",
    "dataset2 = pipelineFit2.transform(ydf)\n",
    "print('Word Vector feature dataset')\n",
    "dataset2.show(5)"
   ]
  },
  {
   "cell_type": "markdown",
   "metadata": {},
   "source": [
    "### 6.1 CHARTS: LOGISTIC REGRESSION: TF-IDF"
   ]
  },
  {
   "cell_type": "code",
   "execution_count": 12,
   "metadata": {},
   "outputs": [],
   "source": [
    "(trainingData, testData) = dataset.randomSplit([0.7, 0.3], seed = 999)"
   ]
  },
  {
   "cell_type": "code",
   "execution_count": 13,
   "metadata": {},
   "outputs": [],
   "source": [
    "lr = LogisticRegression(maxIter=10, regParam=0.1, family = \"binomial\") #Specify best regParam\n",
    "\n",
    "# Train model with Training Data\n",
    "lrModel = lr.fit(trainingData)\n",
    "\n",
    "trainingSummary = lrModel.summary\n",
    "predictions = lrModel.transform(testData)\n",
    "evaluator = BinaryClassificationEvaluator(rawPredictionCol=\"rawPrediction\")"
   ]
  },
  {
   "cell_type": "code",
   "execution_count": 15,
   "metadata": {},
   "outputs": [
    {
     "data": {
      "image/png": "[encoded data removed]",
      "text/plain": [
       "<matplotlib.figure.Figure at 0x7f23ae35eda0>"
      ]
     },
     "metadata": {},
     "output_type": "display_data"
    },
    {
     "data": {
      "image/png": "[encoded data removed]",
      "text/plain": [
       "<matplotlib.figure.Figure at 0x7f23a596c668>"
      ]
     },
     "metadata": {},
     "output_type": "display_data"
    },
    {
     "data": {
      "image/png": "[encoded data removed]",
      "text/plain": [
       "<matplotlib.figure.Figure at 0x7f23a597c550>"
      ]
     },
     "metadata": {},
     "output_type": "display_data"
    },
    {
     "data": {
      "image/png": "[encoded data removed]",
      "text/plain": [
       "<matplotlib.figure.Figure at 0x7f23a5816d68>"
      ]
     },
     "metadata": {},
     "output_type": "display_data"
    }
   ],
   "source": [
    "roc = trainingSummary.roc.toPandas()\n",
    "plt.plot(roc['FPR'],roc['TPR'])\n",
    "plt.ylabel('False Positive Rate')\n",
    "plt.xlabel('True Positive Rate')\n",
    "plt.title('AUC: ' + str(trainingSummary.areaUnderROC))\n",
    "plt.show()\n",
    "\n",
    "objectiveHistory = trainingSummary.objectiveHistory\n",
    "plt.plot(objectiveHistory)\n",
    "plt.ylabel('Objective Function')\n",
    "plt.xlabel('Iteration')\n",
    "plt.title('Objective Function')\n",
    "plt.show()\n",
    "\n",
    "pr = trainingSummary.pr.toPandas()\n",
    "plt.plot(pr['recall'],pr['precision'])\n",
    "plt.ylabel('Precision')\n",
    "plt.xlabel('Recall')\n",
    "plt.title('Precision v. Recall')\n",
    "plt.show()\n",
    "\n",
    "f = trainingSummary.fMeasureByThreshold.toPandas()\n",
    "plt.plot(f['threshold'],f['F-Measure'])\n",
    "plt.ylabel('F-Measure')\n",
    "plt.xlabel('Threshold')\n",
    "plt.title('F-score')\n",
    "plt.show()"
   ]
  },
  {
   "cell_type": "markdown",
   "metadata": {},
   "source": [
    "### 6.2 CHARTS: LOGISTIC REGRESSION: WORD2VEC"
   ]
  },
  {
   "cell_type": "code",
   "execution_count": 16,
   "metadata": {},
   "outputs": [],
   "source": [
    "(trainingData2, testData2) = dataset2.randomSplit([0.7, 0.3], seed = 888)"
   ]
  },
  {
   "cell_type": "code",
   "execution_count": 18,
   "metadata": {},
   "outputs": [],
   "source": [
    "lr = LogisticRegression(maxIter=10, regParam=0.001, family = \"binomial\")  #Specify best regParam\n",
    "\n",
    "# Train model with Training Data\n",
    "lrModel = lr.fit(trainingData2)\n",
    "\n",
    "trainingSummary = lrModel.summary\n",
    "predictions = lrModel.transform(testData2)\n",
    "evaluator = BinaryClassificationEvaluator(rawPredictionCol=\"rawPrediction\")"
   ]
  },
  {
   "cell_type": "code",
   "execution_count": 21,
   "metadata": {},
   "outputs": [
    {
     "data": {
      "image/png": "[encoded data removed]",
      "text/plain": [
       "<matplotlib.figure.Figure at 0x7f23a5753438>"
      ]
     },
     "metadata": {},
     "output_type": "display_data"
    },
    {
     "data": {
      "image/png": "[encoded data removed]",
      "text/plain": [
       "<matplotlib.figure.Figure at 0x7f23a580bb38>"
      ]
     },
     "metadata": {},
     "output_type": "display_data"
    },
    {
     "data": {
      "image/png": "[encoded data removed]",
      "text/plain": [
       "<matplotlib.figure.Figure at 0x7f23a590c7b8>"
      ]
     },
     "metadata": {},
     "output_type": "display_data"
    },
    {
     "data": {
      "image/png": "[encoded data removed]",
      "text/plain": [
       "<matplotlib.figure.Figure at 0x7f23a5696ef0>"
      ]
     },
     "metadata": {},
     "output_type": "display_data"
    }
   ],
   "source": [
    "roc = trainingSummary.roc.toPandas()\n",
    "plt.plot(roc['FPR'],roc['TPR'])\n",
    "plt.ylabel('False Positive Rate')\n",
    "plt.xlabel('True Positive Rate')\n",
    "plt.title('AUC: ' + str(trainingSummary.areaUnderROC))\n",
    "plt.show()\n",
    "\n",
    "objectiveHistory = trainingSummary.objectiveHistory\n",
    "plt.plot(objectiveHistory)\n",
    "plt.ylabel('Objective Function')\n",
    "plt.xlabel('Iteration')\n",
    "plt.title('Objective Function')\n",
    "plt.show()\n",
    "\n",
    "pr = trainingSummary.pr.toPandas()\n",
    "plt.plot(pr['recall'],pr['precision'])\n",
    "plt.ylabel('Precision')\n",
    "plt.xlabel('Recall')\n",
    "plt.title('Precision v. Recall')\n",
    "plt.show()\n",
    "\n",
    "f = trainingSummary.fMeasureByThreshold.toPandas()\n",
    "plt.plot(f['threshold'],f['F-Measure'])\n",
    "plt.ylabel('F-Measure')\n",
    "plt.xlabel('Threshold')\n",
    "plt.title('F-score')\n",
    "plt.show()"
   ]
  },
  {
   "cell_type": "markdown",
   "metadata": {},
   "source": [
    "# 7. CONCLUSIONS"
   ]
  },
  {
   "cell_type": "markdown",
   "metadata": {},
   "source": [
    "TF-IDF features were more accurate predictors of reviewer’ rating than Word Vectors. Moreover the time to train the LR classifier on TF-IDF features was substantially shorter than Word Vectors. TF-IDF features also took less LR iterations to minimize loss.<br>\n",
    "\n",
    "On average, it took approximately 3 times as long to train Word2vec features than TF-IDF. Furthermore, these features quickly became computationally overwhelming as large vector sizes would result in out-of-memory and time-out errors. Originally, the vector sizes in word2vec features to be compared were 100, 1000 and 10000, similar to the number of features in TF-IDF. This vector size then added an additional constraint onto the data size, where the largest dataset that could be trained before causing a memory error was 10,000 samples. The resulting ROC was approximately 0.77 in these instances. <br>\n",
    "\n",
    "However, it appears the word2vec has the advantage in that it can do more with less. Whereas a low number (100) of TF-IDF features led to mediocre performance (ROC = 0.69-0.75),  Word2vec yielded an ROC of  0.89 with a vector size of 30, whereas the best TF-IDF trained model utilized 10000."
   ]
  }
 ],
 "metadata": {
  "kernelspec": {
   "display_name": "Python 3.5 with Spark 2.1",
   "language": "python",
   "name": "python3-spark21"
  },
  "language_info": {
   "codemirror_mode": {
    "name": "ipython",
    "version": 3
   },
   "file_extension": ".py",
   "mimetype": "text/x-python",
   "name": "python",
   "nbconvert_exporter": "python",
   "pygments_lexer": "ipython3",
   "version": "3.5.4"
  }
 },
 "nbformat": 4,
 "nbformat_minor": 1
}
